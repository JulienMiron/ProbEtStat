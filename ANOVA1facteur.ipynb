{
  "cells": [
    {
      "cell_type": "raw",
      "metadata": {},
      "source": [
        "---\n",
        "title: \"ANOVA 1 facteur\"\n",
        "---"
      ],
      "id": "660bff1d"
    },
    {
      "cell_type": "markdown",
      "metadata": {},
      "source": [
        "## Q1 $\\star \\star \\star$\n",
        "\n",
        "Soit la table d'ANOVA suivante obtenue à l'aide de $\\texttt{Rcmdr}$:\n",
        "\n",
        "\n",
        "```{verbatim}\n",
        "> summary(ANOVAModel) Df Sum Sq Mean Sq F value Pr(>F)\n",
        "> Fromages          4 926.12 231.53 238.72 0.0001 \n",
        "Residuals 48 46.55 0.97\n",
        "```\n",
        "\n",
        "\n",
        "À partir de la table d'ANOVA, quelle affirmation parmi les suivantes est vraie?\n",
        "\n",
        "$$\n",
        "\\begin{itemize}\n",
        "\\item La proportion de la variance totale expliquée par le facteur \\texttt{Fromages} est égale à $0,0001$. \n",
        "\\item Nous avons 4 niveaux différents pour le facteur \\texttt{Fromages}.\n",
        "\\item La variance du facteur \\texttt{Fromages} est environ 20 fois plus grande que la variance du facteur \\texttt{Residuals}.\n",
        "\\item L'hypothèse nulle supposait que les moyennes des différents niveaux du facteur \\texttt{Fromages} étaient toutes égales.\n",
        "\\end{itemize}\n",
        "$$"
      ],
      "id": "4e476ab8"
    }
  ],
  "metadata": {
    "kernelspec": {
      "display_name": "Python 3",
      "language": "python",
      "name": "python3"
    }
  },
  "nbformat": 4,
  "nbformat_minor": 5
}